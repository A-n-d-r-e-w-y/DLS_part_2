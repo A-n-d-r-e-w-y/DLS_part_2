{
 "cells": [
  {
   "cell_type": "markdown",
   "metadata": {
    "id": "fGGGH0XBAJAl"
   },
   "source": [
    "# Image Captioning Demonstartion"
   ]
  },
  {
   "cell_type": "markdown",
   "metadata": {
    "id": "yLNnW5RiANfO"
   },
   "source": [
    "Click cells below to install requirements. It's fast."
   ]
  },
  {
   "cell_type": "code",
   "execution_count": null,
   "metadata": {
    "id": "lN6BWSObVX8z"
   },
   "outputs": [],
   "source": [
    "! git clone https://github.com/A-n-d-r-e-w-y/DLS_part_2.git\n",
    "% cd DLS_part_2/Final_project_Image_Captioning"
   ]
  },
  {
   "cell_type": "code",
   "execution_count": null,
   "metadata": {
    "id": "WlbCeaephwyj"
   },
   "outputs": [],
   "source": [
    "import os\n",
    "\n",
    "from utils.modules import load_image, show_image, post_processing\n",
    "from utils.plot_attention import plot_attention\n",
    "from demo import initialization"
   ]
  },
  {
   "cell_type": "code",
   "execution_count": null,
   "metadata": {
    "id": "PSXmIFCnh3J3"
   },
   "outputs": [],
   "source": [
    "greedy_search_demo, beam_search_demo, sampling_search_demo = initialization()"
   ]
  },
  {
   "cell_type": "markdown",
   "metadata": {
    "id": "ElGp8lan_nJV"
   },
   "source": [
    "Choice image size to see uplodaded image comfortably"
   ]
  },
  {
   "cell_type": "code",
   "execution_count": null,
   "metadata": {
    "id": "GM_1x5PYTcz0"
   },
   "outputs": [],
   "source": [
    "height = 5\n",
    "weight = 5"
   ]
  },
  {
   "cell_type": "markdown",
   "metadata": {
    "id": "EPCjhNOm_8Zd"
   },
   "source": [
    "Upload a few images"
   ]
  },
  {
   "cell_type": "code",
   "execution_count": null,
   "metadata": {
    "id": "baniY_1r-OPX"
   },
   "outputs": [],
   "source": [
    "from google.colab import files\n",
    "uploaded_files = files.upload()"
   ]
  },
  {
   "cell_type": "markdown",
   "metadata": {
    "id": "fYjpJjtgAAIE"
   },
   "source": [
    "Click to see different model captions for your images"
   ]
  },
  {
   "cell_type": "code",
   "execution_count": null,
   "metadata": {
    "id": "-ayOo-Mr6gY4"
   },
   "outputs": [],
   "source": [
    "for image_path in uploaded_files:\n",
    "    try:\n",
    "        print(f\"Original image: {image_path}\")\n",
    "        show_image(image_path, height=height, weight=weight)\n",
    "        \n",
    "        result, attention_plot = greedy_search_demo(image_path=image_path)\n",
    "        print(\"\\nGreedy search:\")\n",
    "        print(post_processing(' '.join(result)))\n",
    "\n",
    "        top_k = 3\n",
    "        results = beam_search_demo(image_path=image_path, top_k=top_k)\n",
    "        print(f\"\\nBeam search (top-{top_k}):\")\n",
    "        for i, result in enumerate(results):\n",
    "            words = result[3]\n",
    "            print(f'top-{i}:', post_processing(' '.join(words)))\n",
    "        \n",
    "        result, attention_plot = sampling_search_demo(image_path=image_path)\n",
    "        print(\"\\nSampling search:\")\n",
    "        print(post_processing(' '.join(result)))\n",
    "\n",
    "    except BaseException as e:\n",
    "        print(f\"Erro opening file: {image_path}.\")\n",
    "        print(e)"
   ]
  },
  {
   "cell_type": "markdown",
   "metadata": {
    "id": "Te8sjQSa3bHU"
   },
   "source": [
    "Let's see on attention."
   ]
  },
  {
   "cell_type": "code",
   "execution_count": null,
   "metadata": {
    "id": "X85krktU3eeZ"
   },
   "outputs": [],
   "source": [
    "for image_path in uploaded_files:\n",
    "    try:\n",
    "        print(f\"Original image: {image_path}\")\n",
    "        show_image(image_path, height=height, weight=weight)\n",
    "        \n",
    "        result, attention_plot = greedy_search_demo(image_path=image_path)\n",
    "        print(\"\\nGreedy search:\")\n",
    "        print(post_processing(' '.join(result)))\n",
    "\n",
    "        plot_attention(image_path, result, attention_plot)\n",
    "        print()\n",
    "    except BaseException as e:\n",
    "        print(e)"
   ]
  },
  {
   "cell_type": "markdown",
   "metadata": {
    "id": "gzpNjZGf3pzA"
   },
   "source": [
    "Remove uploaded files."
   ]
  },
  {
   "cell_type": "code",
   "execution_count": null,
   "metadata": {
    "id": "PjC6_Shs3wrO"
   },
   "outputs": [],
   "source": [
    "for image_path in uploaded_files:\n",
    "    os.remove(image_path)"
   ]
  }
 ],
 "metadata": {
  "colab": {
   "collapsed_sections": [],
   "name": "demo.ipynb",
   "provenance": []
  },
  "kernelspec": {
   "display_name": "Python 3",
   "language": "python",
   "name": "python3"
  },
  "language_info": {
   "codemirror_mode": {
    "name": "ipython",
    "version": 3
   },
   "file_extension": ".py",
   "mimetype": "text/x-python",
   "name": "python",
   "nbconvert_exporter": "python",
   "pygments_lexer": "ipython3",
   "version": "3.8.10"
  }
 },
 "nbformat": 4,
 "nbformat_minor": 1
}
