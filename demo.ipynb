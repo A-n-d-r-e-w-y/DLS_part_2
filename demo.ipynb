{
  "cells": [
    {
      "cell_type": "markdown",
      "source": [
        "# Image Captioning Demonstartion"
      ],
      "metadata": {
        "id": "fGGGH0XBAJAl"
      }
    },
    {
      "cell_type": "markdown",
      "source": [
        "Click cells below to install requirements. It's fast."
      ],
      "metadata": {
        "id": "yLNnW5RiANfO"
      }
    },
    {
      "cell_type": "code",
      "source": [
        "! git clone https://github.com/A-n-d-r-e-w-y/DLS_part_2.git\n",
        "% cd DLS_part_2"
      ],
      "metadata": {
        "id": "lN6BWSObVX8z"
      },
      "execution_count": null,
      "outputs": []
    },
    {
      "cell_type": "code",
      "source": [
        "import os\n",
        "\n",
        "from utils.modules import load_image, show_image, post_processing\n",
        "from utils.plot_attention import plot_attention\n",
        "from demo import initialization"
      ],
      "metadata": {
        "id": "WlbCeaephwyj"
      },
      "execution_count": null,
      "outputs": []
    },
    {
      "cell_type": "code",
      "source": [
        "greedy_search_demo, beam_search_demo, sampling_search_demo = initialization()"
      ],
      "metadata": {
        "id": "PSXmIFCnh3J3"
      },
      "execution_count": null,
      "outputs": []
    },
    {
      "cell_type": "markdown",
      "source": [
        "Choice image size to see uplodaded image comfortably"
      ],
      "metadata": {
        "id": "ElGp8lan_nJV"
      }
    },
    {
      "cell_type": "code",
      "source": [
        "height = 5\n",
        "weight = 5"
      ],
      "metadata": {
        "id": "GM_1x5PYTcz0"
      },
      "execution_count": null,
      "outputs": []
    },
    {
      "cell_type": "markdown",
      "source": [
        "Upload a few images"
      ],
      "metadata": {
        "id": "EPCjhNOm_8Zd"
      }
    },
    {
      "cell_type": "code",
      "source": [
        "from google.colab import files\n",
        "uploaded_files = files.upload()"
      ],
      "metadata": {
        "id": "baniY_1r-OPX"
      },
      "execution_count": null,
      "outputs": []
    },
    {
      "cell_type": "markdown",
      "source": [
        "Click to see different model captions for your images"
      ],
      "metadata": {
        "id": "fYjpJjtgAAIE"
      }
    },
    {
      "cell_type": "code",
      "source": [
        "for image_path in uploaded_files:\n",
        "    try:\n",
        "        print(f\"Original image: {image_path}\")\n",
        "        show_image(image_path, height=height, weight=weight)\n",
        "        \n",
        "        result, attention_plot = greedy_search_demo(image_path=image_path)\n",
        "        print(\"\\nGreedy search:\")\n",
        "        print(post_processing(' '.join(result)))\n",
        "\n",
        "        top_k = 3\n",
        "        results = beam_search_demo(image_path=image_path, top_k=top_k)\n",
        "        print(f\"\\nBeam search (top-{top_k}):\")\n",
        "        for i, result in enumerate(results):\n",
        "            words = result[3]\n",
        "            print(f'top-{i}:', post_processing(' '.join(words)))\n",
        "        \n",
        "        result, attention_plot = sampling_search_demo(image_path=image_path)\n",
        "        print(\"\\nSampling search:\")\n",
        "        print(post_processing(' '.join(result)))\n",
        "\n",
        "    except BaseException as e:\n",
        "        print(f\"Erro opening file: {image_path}.\")\n",
        "        print(e)"
      ],
      "metadata": {
        "id": "-ayOo-Mr6gY4"
      },
      "execution_count": null,
      "outputs": []
    },
    {
      "cell_type": "markdown",
      "source": [
        "Let's see on attention."
      ],
      "metadata": {
        "id": "Te8sjQSa3bHU"
      }
    },
    {
      "cell_type": "code",
      "source": [
        "for image_path in uploaded_files:\n",
        "    try:\n",
        "        print(f\"Original image: {image_path}\")\n",
        "        show_image(image_path, height=height, weight=weight)\n",
        "        \n",
        "        result, attention_plot = greedy_search_demo(image_path=image_path)\n",
        "        print(\"\\nGreedy search:\")\n",
        "        print(post_processing(' '.join(result)))\n",
        "\n",
        "        plot_attention(image_path, result, attention_plot)\n",
        "        print()\n",
        "    except BaseException as e:\n",
        "        print(e)"
      ],
      "metadata": {
        "id": "X85krktU3eeZ"
      },
      "execution_count": null,
      "outputs": []
    },
    {
      "cell_type": "markdown",
      "source": [
        "Remove uploaded files."
      ],
      "metadata": {
        "id": "gzpNjZGf3pzA"
      }
    },
    {
      "cell_type": "code",
      "source": [
        "for image_path in uploaded_files:\n",
        "    os.remove(image_path)"
      ],
      "metadata": {
        "id": "PjC6_Shs3wrO"
      },
      "execution_count": null,
      "outputs": []
    }
  ],
  "metadata": {
    "kernelspec": {
      "display_name": "Python 3",
      "language": "python",
      "name": "python3"
    },
    "language_info": {
      "codemirror_mode": {
        "name": "ipython",
        "version": 3
      },
      "file_extension": ".py",
      "mimetype": "text/x-python",
      "name": "python",
      "nbconvert_exporter": "python",
      "pygments_lexer": "ipython3",
      "version": "3.8.10"
    },
    "colab": {
      "name": "demo.ipynb",
      "provenance": [],
      "collapsed_sections": []
    }
  },
  "nbformat": 4,
  "nbformat_minor": 0
}